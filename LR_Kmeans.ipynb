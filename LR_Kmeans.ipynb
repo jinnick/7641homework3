{
 "cells": [
  {
   "cell_type": "code",
   "execution_count": 1,
   "metadata": {},
   "outputs": [
    {
     "data": {
      "text/plain": [
       "T      0\n",
       "2      0\n",
       "8      0\n",
       "3      0\n",
       "5      0\n",
       "1      0\n",
       "8.1    0\n",
       "13     0\n",
       "0      0\n",
       "6      0\n",
       "6.1    0\n",
       "10     0\n",
       "8.2    0\n",
       "0.1    0\n",
       "8.3    0\n",
       "0.2    0\n",
       "8.4    0\n",
       "dtype: int64"
      ]
     },
     "execution_count": 1,
     "metadata": {},
     "output_type": "execute_result"
    }
   ],
   "source": [
    "import pandas as pd\n",
    "import numpy as np\n",
    "df = pd.read_csv('letter-recognition.data')\n",
    "df.isnull().sum()"
   ]
  },
  {
   "cell_type": "code",
   "execution_count": 2,
   "metadata": {},
   "outputs": [
    {
     "data": {
      "text/plain": [
       "<bound method DataFrame.info of        T   2   8   3  5   1  8.1  13  0   6  6.1  10  8.2  0.1  8.3  0.2  8.4\n",
       "0      I   5  12   3  7   2   10   5  5   4   13   3    9    2    8    4   10\n",
       "1      D   4  11   6  8   6   10   6  2   6   10   3    7    3    7    3    9\n",
       "2      N   7  11   6  6   3    5   9  4   6    4   4   10    6   10    2    8\n",
       "3      G   2   1   3  1   1    8   6  6   6    6   5    9    1    7    5   10\n",
       "4      S   4  11   5  8   3    8   8  6   9    5   6    6    0    8    9    7\n",
       "5      B   4   2   5  4   4    8   7  6   6    7   6    6    2    8    7   10\n",
       "6      A   1   1   3  2   1    8   2  2   2    8   2    8    1    6    2    7\n",
       "7      J   2   2   4  4   2   10   6  2   6   12   4    8    1    6    1    7\n",
       "8      M  11  15  13  9   7   13   2  6   2   12   1    9    8    1    1    8\n",
       "9      X   3   9   5  7   4    8   7  3   8    5   6    8    2    8    6    7\n",
       "10     O   6  13   4  7   4    6   7  6   3   10   7    9    5    9    5    8\n",
       "11     G   4   9   6  7   6    7   8  6   2    6   5   11    4    8    7    8\n",
       "12     M   6   9   8  6   9    7   8  6   5    7   5    8    8    9    8    6\n",
       "13     R   5   9   5  7   6    6  11  7   3    7   3    9    2    7    5   11\n",
       "14     F   6   9   5  4   3   10   6  3   5   10   5    7    3    9    6    9\n",
       "15     O   3   4   4  3   2    8   7  7   5    7   6    8    2    8    3    8\n",
       "16     C   7  10   5  5   2    6   8  6   8   11   7   11    2    8    5    9\n",
       "17     T   6  11   6  8   5    6  11  5   6   11   9    4    3   12    2    4\n",
       "18     J   2   2   3  3   1   10   6  3   6   12   4    9    0    7    1    7\n",
       "19     J   1   3   2  2   1    8   8  2   5   14   5    8    0    7    0    7\n",
       "20     H   4   5   5  4   4    7   7  6   6    7   6    8    3    8    3    8\n",
       "21     S   3   2   3  3   2    8   8  7   5    7   5    7    2    8    9    8\n",
       "22     O   6  11   7  8   5    7   6  9   6    7   5    9    4    8    5    5\n",
       "23     J   3   6   4  4   2    6   6  4   4   14   8   12    1    6    1    6\n",
       "24     C   6  11   7  8   3    7   8  7  11    4   7   14    1    7    4    8\n",
       "25     M   7  11  11  8   9    3   8  4   5   10  11   10   10    9    5    7\n",
       "26     W  12  14  12  8   5    9  10  4   3    5  10    7   10   12    2    6\n",
       "27     H   6   9   8  7   6    8   6  6   7    7   7    9    6    8    4    8\n",
       "28     G   3   6   4  4   2    6   6  5   5    6   6    9    2    8    4    8\n",
       "29     L   2   3   3  4   1    0   1  5   6    0   0    6    0    8    0    8\n",
       "...   ..  ..  ..  .. ..  ..  ...  .. ..  ..  ...  ..  ...  ...  ...  ...  ...\n",
       "19969  F   7  10   9  8   7    9   7  2   6   12   4    6    5    9    4    9\n",
       "19970  C   5  10   7  9   8    5   6  4   4    7   6   11    5   11    8   10\n",
       "19971  V   4   7   6  5   6    8   6  4   2    7   8    8    7    9    4    6\n",
       "19972  T   4   4   5  3   2    5  12  2   8   11   9    4    0   10    2    4\n",
       "19973  N   5   9   5  4   2    9  11  5   3    5   6    9    5   11    2    6\n",
       "19974  E   1   0   1  0   0    5   8  5   7    7   6   12    0    8    6   10\n",
       "19975  L   3   8   3  6   2    0   2  4   6    1   0    8    0    8    0    8\n",
       "19976  A   3   9   5  6   2    6   5  3   1    6   1    8    2    7    2    7\n",
       "19977  K   5  11   5  8   5    3   8  7   3    6   4   11    3    8    2   11\n",
       "19978  M   6   9  10  7  12    7   5  3   2    7   5    8   15    7    4    6\n",
       "19979  R   2   3   3  2   2    7   7  5   5    7   5    6    2    7    4    8\n",
       "19980  S   6  12   6  7   3    6   8  3   6   13   7    7    2    9    3    7\n",
       "19981  Y   3   9   5  6   3    7   9  1   6    6  11    8    2   11    2    7\n",
       "19982  V   7  10   5  5   2    6  11  5   4   11   9    4    4   11    3   10\n",
       "19983  S   2   0   2  1   1    8   7  4   6    5   6    8    0    8    7    8\n",
       "19984  M   5   6   8  4   5    9   6  2   4    9   5    7    8    6    2    8\n",
       "19985  O   9  15   6  8   5    5   7  7   4   10   7   10    5    9    5    8\n",
       "19986  L   3   7   3  5   1    0   1  6   6    0   0    6    0    8    0    8\n",
       "19987  D   6   9   8  8   8    7   6  5   7    7   5    9    6    5   10    3\n",
       "19988  P   2   1   3  2   1    4  10  3   5   10   8    5    0    9    3    7\n",
       "19989  W   3   8   5  6   5   11  11  2   2    5   8    7    7   12    1    7\n",
       "19990  O   4   3   5  4   2    7   6  8   8    6   5    7    3    8    4    8\n",
       "19991  E   4   9   5  6   3    5   9  2  10   10   8    9    2    8    5    5\n",
       "19992  J   2  11   3  8   2   15   4  4   5   13   1    8    0    7    0    8\n",
       "19993  T   5   8   7  7   7    7   9  4   8    7   7    8    3   10    8    6\n",
       "19994  D   2   2   3  3   2    7   7  7   6    6   6    4    2    8    3    7\n",
       "19995  C   7  10   8  8   4    4   8  6   9   12   9   13    2    9    3    7\n",
       "19996  T   6   9   6  7   5    6  11  3   7   11   9    5    2   12    2    4\n",
       "19997  S   2   3   4  2   1    8   7  2   6   10   6    8    1    9    5    8\n",
       "19998  A   4   9   6  6   2    9   5  3   1    8   1    8    2    7    2    8\n",
       "\n",
       "[19999 rows x 17 columns]>"
      ]
     },
     "execution_count": 2,
     "metadata": {},
     "output_type": "execute_result"
    }
   ],
   "source": [
    "df.info"
   ]
  },
  {
   "cell_type": "code",
   "execution_count": 3,
   "metadata": {},
   "outputs": [
    {
     "name": "stdout",
     "output_type": "stream",
     "text": [
      "[ 8  3 13 ..., 19 18  0]\n"
     ]
    }
   ],
   "source": [
    "from sklearn import preprocessing\n",
    "le = preprocessing.LabelEncoder()\n",
    "le.fit([\"A\", \"B\",\"C\",\"D\",\"E\",\"F\",\"G\",\"H\",\"I\",\"J\",\"K\",\"L\",\"M\",\"N\",\"O\",\"P\",\"Q\",\"R\",\"S\",\"T\",\"U\",\"V\",\"W\",\"X\",\"Y\",\"Z\"])\n",
    "list(le.classes_)\n",
    "le.transform(df['T'])\n",
    "y = le.transform(df['T'])\n",
    "print(y)"
   ]
  },
  {
   "cell_type": "code",
   "execution_count": 4,
   "metadata": {},
   "outputs": [
    {
     "name": "stdout",
     "output_type": "stream",
     "text": [
      "[[ 5 12  3 ...,  8  4 10]\n",
      " [ 4 11  6 ...,  7  3  9]\n",
      " [ 7 11  6 ..., 10  2  8]\n",
      " ..., \n",
      " [ 6  9  6 ..., 12  2  4]\n",
      " [ 2  3  4 ...,  9  5  8]\n",
      " [ 4  9  6 ...,  7  2  8]]\n"
     ]
    }
   ],
   "source": [
    "X = np.array(df.iloc[:,1:17].astype(int))\n",
    "print(X)"
   ]
  },
  {
   "cell_type": "code",
   "execution_count": 5,
   "metadata": {},
   "outputs": [
    {
     "name": "stderr",
     "output_type": "stream",
     "text": [
      "/anaconda3/lib/python3.6/site-packages/sklearn/utils/validation.py:590: DataConversionWarning: Data with input dtype int64 was converted to float64 by StandardScaler.\n",
      "  warnings.warn(msg, DataConversionWarning)\n",
      "/anaconda3/lib/python3.6/site-packages/sklearn/utils/validation.py:590: DataConversionWarning: Data with input dtype int64 was converted to float64 by StandardScaler.\n",
      "  warnings.warn(msg, DataConversionWarning)\n"
     ]
    }
   ],
   "source": [
    "from sklearn.preprocessing import StandardScaler\n",
    "scaler = StandardScaler()\n",
    "X_scaled = scaler.fit_transform(X)"
   ]
  },
  {
   "cell_type": "code",
   "execution_count": 6,
   "metadata": {},
   "outputs": [
    {
     "name": "stdout",
     "output_type": "stream",
     "text": [
      "[12 19  2 ..., 22 10 13]\n"
     ]
    }
   ],
   "source": [
    "from sklearn.model_selection import train_test_split\n",
    "X_train, X_test, y_train, y_test = train_test_split(X_scaled,y,test_size=0.20, random_state=101)\n",
    "print(y_train)"
   ]
  },
  {
   "cell_type": "code",
   "execution_count": 7,
   "metadata": {},
   "outputs": [
    {
     "data": {
      "text/plain": [
       "KMeans(algorithm='auto', copy_x=True, init='k-means++', max_iter=300,\n",
       "    n_clusters=26, n_init=10, n_jobs=None, precompute_distances='auto',\n",
       "    random_state=None, tol=0.0001, verbose=0)"
      ]
     },
     "execution_count": 7,
     "metadata": {},
     "output_type": "execute_result"
    }
   ],
   "source": [
    "import numpy as np\n",
    "from sklearn.cluster import KMeans\n",
    "kmeans = KMeans(n_clusters=26)\n",
    "kmeans.fit(X_train)"
   ]
  },
  {
   "cell_type": "code",
   "execution_count": 8,
   "metadata": {},
   "outputs": [
    {
     "name": "stdout",
     "output_type": "stream",
     "text": [
      "Accuracy score using K-means clustering: 0.0209\n"
     ]
    }
   ],
   "source": [
    "from sklearn.metrics import accuracy_score\n",
    "pred = kmeans.labels_\n",
    "score = round(accuracy_score(pred,y_train),4)\n",
    "print('Accuracy score using K-means clustering:',score)"
   ]
  },
  {
   "cell_type": "code",
   "execution_count": 9,
   "metadata": {},
   "outputs": [
    {
     "ename": "KeyError",
     "evalue": "7",
     "output_type": "error",
     "traceback": [
      "\u001b[0;31m---------------------------------------------------------------------------\u001b[0m",
      "\u001b[0;31mKeyError\u001b[0m                                  Traceback (most recent call last)",
      "\u001b[0;32m<ipython-input-9-fb66977102ce>\u001b[0m in \u001b[0;36m<module>\u001b[0;34m()\u001b[0m\n\u001b[1;32m      2\u001b[0m \u001b[0mX_clustered\u001b[0m \u001b[0;34m=\u001b[0m \u001b[0mkmeans\u001b[0m\u001b[0;34m.\u001b[0m\u001b[0mfit_predict\u001b[0m\u001b[0;34m(\u001b[0m\u001b[0mX_scaled\u001b[0m\u001b[0;34m)\u001b[0m\u001b[0;34m\u001b[0m\u001b[0m\n\u001b[1;32m      3\u001b[0m \u001b[0mLABEL_COLOR_MAP\u001b[0m \u001b[0;34m=\u001b[0m \u001b[0;34m{\u001b[0m\u001b[0;36m0\u001b[0m\u001b[0;34m:\u001b[0m\u001b[0;34m'r'\u001b[0m\u001b[0;34m,\u001b[0m \u001b[0;36m1\u001b[0m\u001b[0;34m:\u001b[0m \u001b[0;34m'g'\u001b[0m\u001b[0;34m}\u001b[0m\u001b[0;34m\u001b[0m\u001b[0m\n\u001b[0;32m----> 4\u001b[0;31m \u001b[0mlabel_color\u001b[0m \u001b[0;34m=\u001b[0m \u001b[0;34m[\u001b[0m\u001b[0mLABEL_COLOR_MAP\u001b[0m\u001b[0;34m[\u001b[0m\u001b[0ml\u001b[0m\u001b[0;34m]\u001b[0m \u001b[0;32mfor\u001b[0m \u001b[0ml\u001b[0m \u001b[0;32min\u001b[0m \u001b[0mX_clustered\u001b[0m\u001b[0;34m]\u001b[0m\u001b[0;34m\u001b[0m\u001b[0m\n\u001b[0m\u001b[1;32m      5\u001b[0m \u001b[0mplt\u001b[0m\u001b[0;34m.\u001b[0m\u001b[0mfigure\u001b[0m\u001b[0;34m(\u001b[0m\u001b[0mfigsize\u001b[0m \u001b[0;34m=\u001b[0m \u001b[0;34m(\u001b[0m\u001b[0;36m7\u001b[0m\u001b[0;34m,\u001b[0m\u001b[0;36m7\u001b[0m\u001b[0;34m)\u001b[0m\u001b[0;34m)\u001b[0m\u001b[0;34m\u001b[0m\u001b[0m\n\u001b[1;32m      6\u001b[0m \u001b[0mplt\u001b[0m\u001b[0;34m.\u001b[0m\u001b[0mscatter\u001b[0m\u001b[0;34m(\u001b[0m\u001b[0mX_scaled\u001b[0m\u001b[0;34m[\u001b[0m\u001b[0;34m:\u001b[0m\u001b[0;34m,\u001b[0m\u001b[0;36m0\u001b[0m\u001b[0;34m]\u001b[0m\u001b[0;34m,\u001b[0m\u001b[0mX_scaled\u001b[0m\u001b[0;34m[\u001b[0m\u001b[0;34m:\u001b[0m\u001b[0;34m,\u001b[0m\u001b[0;36m1\u001b[0m\u001b[0;34m]\u001b[0m\u001b[0;34m,\u001b[0m \u001b[0mc\u001b[0m\u001b[0;34m=\u001b[0m \u001b[0mlabel_color\u001b[0m\u001b[0;34m,\u001b[0m \u001b[0malpha\u001b[0m\u001b[0;34m=\u001b[0m\u001b[0;36m0.5\u001b[0m\u001b[0;34m)\u001b[0m\u001b[0;34m\u001b[0m\u001b[0m\n",
      "\u001b[0;32m<ipython-input-9-fb66977102ce>\u001b[0m in \u001b[0;36m<listcomp>\u001b[0;34m(.0)\u001b[0m\n\u001b[1;32m      2\u001b[0m \u001b[0mX_clustered\u001b[0m \u001b[0;34m=\u001b[0m \u001b[0mkmeans\u001b[0m\u001b[0;34m.\u001b[0m\u001b[0mfit_predict\u001b[0m\u001b[0;34m(\u001b[0m\u001b[0mX_scaled\u001b[0m\u001b[0;34m)\u001b[0m\u001b[0;34m\u001b[0m\u001b[0m\n\u001b[1;32m      3\u001b[0m \u001b[0mLABEL_COLOR_MAP\u001b[0m \u001b[0;34m=\u001b[0m \u001b[0;34m{\u001b[0m\u001b[0;36m0\u001b[0m\u001b[0;34m:\u001b[0m\u001b[0;34m'r'\u001b[0m\u001b[0;34m,\u001b[0m \u001b[0;36m1\u001b[0m\u001b[0;34m:\u001b[0m \u001b[0;34m'g'\u001b[0m\u001b[0;34m}\u001b[0m\u001b[0;34m\u001b[0m\u001b[0m\n\u001b[0;32m----> 4\u001b[0;31m \u001b[0mlabel_color\u001b[0m \u001b[0;34m=\u001b[0m \u001b[0;34m[\u001b[0m\u001b[0mLABEL_COLOR_MAP\u001b[0m\u001b[0;34m[\u001b[0m\u001b[0ml\u001b[0m\u001b[0;34m]\u001b[0m \u001b[0;32mfor\u001b[0m \u001b[0ml\u001b[0m \u001b[0;32min\u001b[0m \u001b[0mX_clustered\u001b[0m\u001b[0;34m]\u001b[0m\u001b[0;34m\u001b[0m\u001b[0m\n\u001b[0m\u001b[1;32m      5\u001b[0m \u001b[0mplt\u001b[0m\u001b[0;34m.\u001b[0m\u001b[0mfigure\u001b[0m\u001b[0;34m(\u001b[0m\u001b[0mfigsize\u001b[0m \u001b[0;34m=\u001b[0m \u001b[0;34m(\u001b[0m\u001b[0;36m7\u001b[0m\u001b[0;34m,\u001b[0m\u001b[0;36m7\u001b[0m\u001b[0;34m)\u001b[0m\u001b[0;34m)\u001b[0m\u001b[0;34m\u001b[0m\u001b[0m\n\u001b[1;32m      6\u001b[0m \u001b[0mplt\u001b[0m\u001b[0;34m.\u001b[0m\u001b[0mscatter\u001b[0m\u001b[0;34m(\u001b[0m\u001b[0mX_scaled\u001b[0m\u001b[0;34m[\u001b[0m\u001b[0;34m:\u001b[0m\u001b[0;34m,\u001b[0m\u001b[0;36m0\u001b[0m\u001b[0;34m]\u001b[0m\u001b[0;34m,\u001b[0m\u001b[0mX_scaled\u001b[0m\u001b[0;34m[\u001b[0m\u001b[0;34m:\u001b[0m\u001b[0;34m,\u001b[0m\u001b[0;36m1\u001b[0m\u001b[0;34m]\u001b[0m\u001b[0;34m,\u001b[0m \u001b[0mc\u001b[0m\u001b[0;34m=\u001b[0m \u001b[0mlabel_color\u001b[0m\u001b[0;34m,\u001b[0m \u001b[0malpha\u001b[0m\u001b[0;34m=\u001b[0m\u001b[0;36m0.5\u001b[0m\u001b[0;34m)\u001b[0m\u001b[0;34m\u001b[0m\u001b[0m\n",
      "\u001b[0;31mKeyError\u001b[0m: 7"
     ]
    }
   ],
   "source": [
    "import matplotlib.pyplot as plt\n",
    "X_clustered = kmeans.fit_predict(X_scaled)\n",
    "LABEL_COLOR_MAP = {0:'r', 1: 'g'}\n",
    "label_color = [LABEL_COLOR_MAP[l] for l in X_clustered]\n",
    "plt.figure(figsize = (7,7))\n",
    "plt.scatter(X_scaled[:,0],X_scaled[:,1], c= label_color, alpha=0.5) \n",
    "centers = kmeans.cluster_centers_\n",
    "plt.scatter(centers[:,0],centers[:,1],c=\"black\",s=200, alpha=0.5)\n",
    "plt.xlabel('radius_mean',fontsize=18)\n",
    "plt.ylabel('texture_mean',fontsize=18)\n",
    "plt.title('Breast_Cancer(K-means)',fontsize=20)\n",
    "plt.show()"
   ]
  },
  {
   "cell_type": "code",
   "execution_count": 10,
   "metadata": {},
   "outputs": [],
   "source": [
    "Sum_of_squared_distances = []\n",
    "K = range(1,31)\n",
    "for k in K:\n",
    "    km = KMeans(n_clusters=k)\n",
    "    km = km.fit(X_train)\n",
    "    Sum_of_squared_distances.append(km.inertia_)"
   ]
  },
  {
   "cell_type": "code",
   "execution_count": 11,
   "metadata": {},
   "outputs": [
    {
     "data": {
      "image/png": "[encoded data removed]",
      "text/plain": [
       "<Figure size 432x288 with 1 Axes>"
      ]
     },
     "metadata": {},
     "output_type": "display_data"
    }
   ],
   "source": [
    "plt.plot(K, Sum_of_squared_distances, 'bx-')\n",
    "plt.xlabel('k(number of clusters)',fontsize=18)\n",
    "plt.ylabel('SSE',fontsize=18)\n",
    "plt.title('Letter_Recognition(Elbow Method For Optimal k)',fontsize=14)\n",
    "plt.show()"
   ]
  },
  {
   "cell_type": "code",
   "execution_count": 12,
   "metadata": {},
   "outputs": [
    {
     "data": {
      "image/png": "[encoded data removed]",
      "text/plain": [
       "<Figure size 432x288 with 1 Axes>"
      ]
     },
     "metadata": {},
     "output_type": "display_data"
    }
   ],
   "source": [
    "from sklearn import metrics\n",
    "import matplotlib.pyplot as plt\n",
    "homogeneity_scores=[]\n",
    "clusters=range(1,31)\n",
    "for k in clusters:\n",
    "    km = KMeans(n_clusters=k)\n",
    "    km = km.fit(X_train)\n",
    "    lable = km.labels_\n",
    "    homogeneity_scores.append(metrics.homogeneity_score(y_train,lable ))\n",
    "plt.plot(clusters, homogeneity_scores,'bo-')\n",
    "plt.xlabel('k(Number of clusters)',fontsize=18)\n",
    "plt.ylabel('Homogeneity Score',fontsize=18)\n",
    "plt.title('Letter_Recognition(Homogeneity Score)',fontsize=14)\n",
    "plt.show()"
   ]
  },
  {
   "cell_type": "code",
   "execution_count": 13,
   "metadata": {},
   "outputs": [
    {
     "data": {
      "image/png": "[encoded data removed]",
      "text/plain": [
       "<Figure size 432x288 with 1 Axes>"
      ]
     },
     "metadata": {},
     "output_type": "display_data"
    }
   ],
   "source": [
    "from sklearn import metrics\n",
    "completeness_scores=[]\n",
    "clusters=range(1,31)\n",
    "for k in clusters:\n",
    "    km = KMeans(n_clusters=k)\n",
    "    km = km.fit(X_train)\n",
    "    lable = km.labels_\n",
    "    completeness_scores.append(metrics.completeness_score(y_train,lable ))\n",
    "plt.plot(clusters, completeness_scores,'g^-')\n",
    "plt.xlabel('k(Number of clusters)',fontsize=18)\n",
    "plt.ylabel('Completeness Score',fontsize=18)\n",
    "plt.title('Letter_Recognition(Completeness Score)',fontsize=14)\n",
    "plt.show()"
   ]
  },
  {
   "cell_type": "code",
   "execution_count": null,
   "metadata": {},
   "outputs": [],
   "source": [
    "#find optimized cluster number\n",
    "meandist = []\n",
    "ARI = []\n",
    "AMI = []\n",
    "h_score = []\n",
    "c_score = []\n",
    "V_measure = []\n",
    "for k in range(1,11):\n",
    "    kmeans = KMeans(init='k-means++', n_clusters=k, n_init=10)\n",
    "    Z = kmeans.fit_predict(X_train)\n",
    "    # other scores\n",
    "    ARI.append(metrics.adjusted_rand_score(y_train, Z))\n",
    "    AMI.append(metrics.adjusted_mutual_info_score(y_train, Z))\n",
    "    h, c, V = metrics.homogeneity_completeness_v_measure(y_train, Z)\n",
    "    h_score.append(h)\n",
    "    c_score.append(c)\n",
    "    V_measure.append(V)"
   ]
  },
  {
   "cell_type": "code",
   "execution_count": null,
   "metadata": {},
   "outputs": [],
   "source": [
    "k = [1,2,3,4,5,6,7,8,9,10]\n",
    "plt.plot(k, ARI, color='red', label='adjusted_rand_score')\n",
    "plt.plot(k, AMI, color='magenta', label='adjusted_mutual_score')\n",
    "plt.plot(k, h_score, color='blue', label='homogeneity_score')\n",
    "plt.plot(k, c_score, color='green', label='completeness_score')\n",
    "plt.plot(k, V_measure, color='cyan', label='V-measure_score')\n",
    "\n",
    "plt.legend(loc='upper right')\n",
    "#plt.title(\"KNN: unweighted (Cancer)\")\n",
    "#plt.ylim(0.92, 1.01)\n",
    "#plt.xticks(np.arange(0,2.1,0.5))\n",
    "plt.xlabel('k(Number of clusters)',fontsize=18)\n",
    "plt.ylabel('Score Values',fontsize=18);\n",
    "plt.title('Letter_Recognition(Kmeans Performance)',fontsize=14)\n",
    "plt.show()"
   ]
  }
 ],
 "metadata": {
  "kernelspec": {
   "display_name": "Python 3",
   "language": "python",
   "name": "python3"
  },
  "language_info": {
   "codemirror_mode": {
    "name": "ipython",
    "version": 3
   },
   "file_extension": ".py",
   "mimetype": "text/x-python",
   "name": "python",
   "nbconvert_exporter": "python",
   "pygments_lexer": "ipython3",
   "version": "3.6.4"
  }
 },
 "nbformat": 4,
 "nbformat_minor": 2
}
