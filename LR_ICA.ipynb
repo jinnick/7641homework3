{
 "cells": [
  {
   "cell_type": "code",
   "execution_count": 1,
   "metadata": {},
   "outputs": [
    {
     "name": "stderr",
     "output_type": "stream",
     "text": [
      "/anaconda3/lib/python3.6/site-packages/sklearn/utils/validation.py:590: DataConversionWarning: Data with input dtype int64 was converted to float64 by StandardScaler.\n",
      "  warnings.warn(msg, DataConversionWarning)\n",
      "/anaconda3/lib/python3.6/site-packages/sklearn/utils/validation.py:590: DataConversionWarning: Data with input dtype int64 was converted to float64 by StandardScaler.\n",
      "  warnings.warn(msg, DataConversionWarning)\n"
     ]
    },
    {
     "name": "stdout",
     "output_type": "stream",
     "text": [
      "[[ 0.36904882  2.01421864 -1.14557864 ...,  0.66238485 -1.09426474\n",
      "  -0.49664097]\n",
      " [ 1.6541564   1.75527879 -1.29697614 ...,  0.11860929  0.62014712\n",
      "   0.84334266]\n",
      " [ 1.49025154 -0.50881513  0.83296768 ..., -1.12286631 -0.56027803\n",
      "  -1.00185667]\n",
      " ..., \n",
      " [ 1.28526279 -3.84987863 -1.27565027 ..., -0.16369327 -0.64023739\n",
      "   0.41605169]\n",
      " [-2.34539149  0.18318419 -1.18588505 ..., -0.17442804 -0.58893913\n",
      "  -0.29108227]\n",
      " [ 0.06521629  2.05547759  0.02826559 ...,  0.71700999 -0.49922469\n",
      "  -0.62760941]]\n",
      "[[ 0.369049  2.014219 -1.145579 ...,  0.662385 -1.094265 -0.496641]\n",
      " [ 1.654156  1.755279 -1.296976 ...,  0.118609  0.620147  0.843343]\n",
      " [ 1.490252 -0.508815  0.832968 ..., -1.122866 -0.560278 -1.001857]\n",
      " ..., \n",
      " [ 1.285263 -3.849879 -1.27565  ..., -0.163693 -0.640237  0.416052]\n",
      " [-2.345391  0.183184 -1.185885 ..., -0.174428 -0.588939 -0.291082]\n",
      " [ 0.065216  2.055478  0.028266 ...,  0.71701  -0.499225 -0.627609]]\n",
      "[[ 0.007476  0.003317  0.000948 ..., -0.010051 -0.005944  0.000381]\n",
      " [-0.000606 -0.003723 -0.006241 ..., -0.002417 -0.009483 -0.000469]\n",
      " [-0.013447 -0.00762  -0.001204 ..., -0.005899  0.001767  0.004867]\n",
      " ..., \n",
      " [ 0.001287  0.004784  0.00106  ...,  0.014728 -0.006167  0.007264]\n",
      " [ 0.00439  -0.001837 -0.006515 ..., -0.000971 -0.001535  0.001749]\n",
      " [-0.008269  0.000764 -0.003713 ..., -0.002052 -0.006592  0.001519]]\n",
      "[[ 1.384261 -1.53856   1.261557 ...,  0.534034 -0.294641  0.517026]\n",
      " [ 2.172497 -3.274216  0.863131 ..., -0.271982  0.007137  0.219935]\n",
      " [ 0.197352  2.506186  1.048451 ...,  1.044283 -0.898199 -1.814565]\n",
      " ..., \n",
      " [ 0.020332  0.572726 -1.464874 ..., -0.083473 -0.59642  -2.520029]\n",
      " [-0.037912 -0.456254  0.482284 ...,  0.635921  0.610695  0.844485]\n",
      " [ 0.557796 -1.800752  2.578165 ...,  0.972925  0.007137  0.366218]]\n"
     ]
    }
   ],
   "source": [
    "import pandas as pd\n",
    "import numpy as np\n",
    "import seaborn as sns\n",
    "import matplotlib.pyplot as plt\n",
    "\n",
    "import pandas as pd\n",
    "import numpy as np\n",
    "df = pd.read_csv('./letter-recognition.data')\n",
    "df.isnull().sum()\n",
    "df.info\n",
    "from sklearn import preprocessing\n",
    "le = preprocessing.LabelEncoder()\n",
    "le.fit([\"A\", \"B\",\"C\",\"D\",\"E\",\"F\",\"G\",\"H\",\"I\",\"J\",\"K\",\"L\",\"M\",\"N\",\"O\",\"P\",\"Q\",\"R\",\"S\",\"T\",\"U\",\"V\",\"W\",\"X\",\"Y\",\"Z\"])\n",
    "list(le.classes_)\n",
    "le.transform(df['T'])\n",
    "y = le.transform(df['T'])\n",
    "\n",
    "X = np.array(df.iloc[:,1:17].astype(int))\n",
    "\n",
    "from sklearn.preprocessing import StandardScaler\n",
    "scaler = StandardScaler()\n",
    "X_scaled = scaler.fit_transform(X)\n",
    "\n",
    "from sklearn.decomposition import PCA\n",
    "X_pca = PCA(n_components=12).fit_transform(X_scaled)\n",
    "print(X_pca)\n",
    "np.savetxt('pca2.txt',X_pca,fmt='%f')\n",
    "pca = np.loadtxt('pca2.txt',dtype=float)\n",
    "print(pca)\n",
    "\n",
    "from sklearn.decomposition import FastICA\n",
    "ica = FastICA(n_components=10, whiten=True)\n",
    "X_ica =ica.fit_transform(X_scaled)\n",
    "np.savetxt('ica2.txt',X_ica,fmt='%f')\n",
    "ica = np.loadtxt('ica2.txt',dtype=float)\n",
    "print(ica)\n",
    "\n",
    "from sklearn import random_projection\n",
    "\n",
    "rp = random_projection.SparseRandomProjection(n_components=12, random_state=10)\n",
    "X_rp =rp.fit_transform(X_scaled)\n",
    "np.savetxt('rp2.txt',X_rp,fmt='%f')\n",
    "rp = np.loadtxt('rp2.txt',dtype=float)\n",
    "print(rp)"
   ]
  },
  {
   "cell_type": "code",
   "execution_count": null,
   "metadata": {},
   "outputs": [],
   "source": [
    "import import_ipynb\n",
    "import letter_recognition as data\n",
    "import numpy as np\n",
    "from sklearn import metrics"
   ]
  },
  {
   "cell_type": "code",
   "execution_count": null,
   "metadata": {},
   "outputs": [],
   "source": [
    "from sklearn.decomposition import FastICA\n",
    "from scipy.stats import kurtosis\n",
    "kurts = []\n",
    "for i in range (1, 17):\n",
    "    ica = FastICA(n_components=i, whiten=True)\n",
    "    output =ica.fit_transform(data.X_train)\n",
    "    kurt = np.average(kurtosis(output))\n",
    "    kurts.append(kurt)"
   ]
  },
  {
   "cell_type": "code",
   "execution_count": null,
   "metadata": {},
   "outputs": [],
   "source": [
    "import matplotlib.pyplot as plt\n",
    "#plt.plot(kurts)\n",
    "plt.bar(range(1, 17), kurts)\n",
    "plt.xlabel('Independent Components',fontsize=18)\n",
    "plt.ylabel('Average Kurtosis',fontsize=18)\n",
    "plt.title('Letter_Recognition(Average Kurtosis)',fontsize=14)\n",
    "plt.show()"
   ]
  },
  {
   "cell_type": "code",
   "execution_count": null,
   "metadata": {},
   "outputs": [],
   "source": [
    "ica = FastICA(n_components=10, whiten=True)\n",
    "X_ica =ica.fit_transform(data.X_train)"
   ]
  },
  {
   "cell_type": "code",
   "execution_count": null,
   "metadata": {},
   "outputs": [],
   "source": [
    "from sklearn.cluster import KMeans\n",
    "Sum_of_squared_distances = []\n",
    "K = range(1,31)\n",
    "for k in K:\n",
    "    km = KMeans(n_clusters=k)\n",
    "    km = km.fit(X_ica)\n",
    "    Sum_of_squared_distances.append(km.inertia_)"
   ]
  },
  {
   "cell_type": "code",
   "execution_count": null,
   "metadata": {},
   "outputs": [],
   "source": [
    "plt.plot(K, Sum_of_squared_distances, 'bx-')\n",
    "plt.xlabel('k(number of clusters)',fontsize=18)\n",
    "plt.ylabel('SSE',fontsize=18)\n",
    "plt.title('Letter_Recognition(Kmeans_ICA=10)',fontsize=14)\n",
    "plt.show()"
   ]
  },
  {
   "cell_type": "code",
   "execution_count": null,
   "metadata": {},
   "outputs": [],
   "source": [
    "from sklearn import metrics\n",
    "homogeneity_scores=[]\n",
    "clusters=range(1,31)\n",
    "for k in clusters:\n",
    "    km = KMeans(n_clusters=k)\n",
    "    km = km.fit(X_ica)\n",
    "    lable = km.labels_\n",
    "    homogeneity_scores.append(metrics.homogeneity_score(data.y_train,lable ))\n",
    "plt.plot(clusters, homogeneity_scores,'bo-')\n",
    "plt.xlabel('k(Number of clusters)',fontsize=18)\n",
    "plt.ylabel('Homogeneity Score',fontsize=18)\n",
    "plt.title('Letter_Recognition(ICA_Kmeans_Homogeneity Score)',fontsize=14)\n",
    "plt.show()"
   ]
  },
  {
   "cell_type": "code",
   "execution_count": null,
   "metadata": {},
   "outputs": [],
   "source": [
    "from sklearn import metrics\n",
    "completeness_scores=[]\n",
    "clusters=range(1,31)\n",
    "for k in clusters:\n",
    "    km = KMeans(n_clusters=k)\n",
    "    km = km.fit(X_ica)\n",
    "    lable = km.labels_\n",
    "    completeness_scores.append(metrics.completeness_score(data.y_train,lable ))\n",
    "plt.plot(clusters, completeness_scores,'g^-')\n",
    "plt.xlabel('k(Number of clusters)',fontsize=18)\n",
    "plt.ylabel('Completeness Score',fontsize=18)\n",
    "plt.title('Letter_Recognition(ICA_Kmeans_Completeness Score)',fontsize=14)\n",
    "plt.show()"
   ]
  },
  {
   "cell_type": "code",
   "execution_count": null,
   "metadata": {},
   "outputs": [],
   "source": [
    "import numpy as np\n",
    "from sklearn.cluster import KMeans\n",
    "from sklearn.metrics import accuracy_score\n",
    "acc = []\n",
    "accuracy = float\n",
    "for i in range (1, 31):\n",
    "    X_pca = FastICA(n_components=i,whiten = True).fit_transform(X_scaled)\n",
    "    print(X_pca)\n",
    "    #clf = DecisionTreeClassifier(max_depth=5)\n",
    "    clf = KMeans(init='k-means++',n_clusters=2)\n",
    "    clf.fit(X_pca)\n",
    "    pred = clf.labels_\n",
    "    if accuracy_score(pred,y) < 0.5:\n",
    "        accuracyscore = 1 - accuracy_score(pred,y)\n",
    "    if accuracy_score(pred,y) > 0.5:\n",
    "        accuracyscore = accuracy_score(pred,y)\n",
    "    acc.append(accuracyscore)\n",
    "print(acc)"
   ]
  },
  {
   "cell_type": "code",
   "execution_count": null,
   "metadata": {},
   "outputs": [],
   "source": [
    "plt.plot(range(1, 2), acc,'bo-')\n",
    "plt.xlabel('Independent Components',fontsize=18)\n",
    "plt.ylim(0,1)\n",
    "plt.xticks(np.arange(0, 22, step=2))\n",
    "plt.ylabel('Accuracy_score',fontsize=18)\n",
    "plt.title('Breast_Cancer(ICA_Kmeans_Accuracy)',fontsize=14)\n",
    "plt.show()\n",
    "plt.clf()"
   ]
  },
  {
   "cell_type": "code",
   "execution_count": null,
   "metadata": {},
   "outputs": [],
   "source": [
    "from sklearn.mixture import GaussianMixture as GMM\n",
    "ll=[]\n",
    "bic=[]\n",
    "homogeinity_scores=[]\n",
    "completeness_scores=[]\n",
    "clusters=range(1,31)\n",
    "model = GMM(covariance_type = 'full')\n",
    "for k in clusters:\n",
    "            model.set_params(n_components=k)\n",
    "            model.fit(X_ica)\n",
    "            labels = model.predict(X_ica)\n",
    "            ll.append(model.score(X_ica))\n",
    "            bic.append(model.bic(X_ica))\n",
    "            homogeinity_scores.append(metrics.homogeneity_score(data.y_train,labels))\n",
    "            completeness_scores.append(metrics.completeness_score(data.y_train,labels))\n",
    "print(bic)"
   ]
  },
  {
   "cell_type": "code",
   "execution_count": null,
   "metadata": {},
   "outputs": [],
   "source": [
    "plt.plot(clusters, ll, color='blue')\n",
    "plt.xlabel('k(Number of clusters)',fontsize=18)\n",
    "plt.ylabel('Log Probability',fontsize=18);\n",
    "plt.title('Letter_Recognition(ICA_GMM_Full_Covariance_Log_Probability)',fontsize=14)\n",
    "plt.show()"
   ]
  },
  {
   "cell_type": "code",
   "execution_count": null,
   "metadata": {},
   "outputs": [],
   "source": [
    "plt.plot(clusters, homogeneity_scores,'bo-')\n",
    "plt.xlabel('k(Number of clusters)',fontsize=18)\n",
    "plt.ylabel('Homogeneity Score',fontsize=18)\n",
    "plt.title('Letter_Recognition(ICA_GMM_Full_Covariance_Homogeneity Score)',fontsize=14)\n",
    "plt.show()"
   ]
  },
  {
   "cell_type": "code",
   "execution_count": null,
   "metadata": {},
   "outputs": [],
   "source": [
    "plt.plot(clusters, completeness_scores,'g^-')\n",
    "plt.xlabel('k(Number of clusters)',fontsize=18)\n",
    "plt.ylabel('Completeness Score',fontsize=18)\n",
    "plt.title('Letter_Recognition(ICA_GMM_Full_Covariance_Completeness Score)',fontsize=14)\n",
    "plt.show()"
   ]
  },
  {
   "cell_type": "code",
   "execution_count": null,
   "metadata": {},
   "outputs": [],
   "source": [
    "bic2=[595681.06407176226, 553912.25273492467, 530720.20033587876, 503221.70012021047, 447283.22086607729, 451825.70017588028, 443626.98389246903, 433674.53006708872, 416415.4066152898, 408596.82664275123, 376019.60288024443, 368610.86938890023, 336976.97505033674, 333373.30356770469, 329729.61742094712, 324451.01867622038, 324126.36980339658, 312213.14488639543, 314093.54577524349, 322679.1090524015, 359128.46439727867, 307443.77934851486, 305634.81837944919, 291955.04050467932, 287172.57117379352, 328037.28389575653, 323025.78966321622, 321714.43428913783, 290333.67651900218, 275310.26912355283]\n",
    "plt.plot(clusters, bic,'g^-',label='ICA BIC')\n",
    "plt.plot(clusters, bic2,'bo-',label='RAW BIC')\n",
    "plt.legend(loc='upper right')\n",
    "plt.xlabel('k(Number of clusters)',fontsize=18)\n",
    "plt.ylabel('BIC_score',fontsize=18)\n",
    "plt.title('Letter_Recognition(GMM_BIC VS ICA_GMM_BIC)',fontsize=14)\n",
    "plt.show()"
   ]
  },
  {
   "cell_type": "code",
   "execution_count": null,
   "metadata": {},
   "outputs": [],
   "source": []
  }
 ],
 "metadata": {
  "kernelspec": {
   "display_name": "Python 3",
   "language": "python",
   "name": "python3"
  },
  "language_info": {
   "codemirror_mode": {
    "name": "ipython",
    "version": 3
   },
   "file_extension": ".py",
   "mimetype": "text/x-python",
   "name": "python",
   "nbconvert_exporter": "python",
   "pygments_lexer": "ipython3",
   "version": "3.6.4"
  }
 },
 "nbformat": 4,
 "nbformat_minor": 2
}
