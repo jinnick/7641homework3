{
 "cells": [
  {
   "cell_type": "code",
   "execution_count": 1,
   "metadata": {
    "scrolled": true
   },
   "outputs": [
    {
     "data": {
      "text/plain": [
       "id                           0\n",
       "diagnosis                    0\n",
       "radius_mean                  0\n",
       "texture_mean                 0\n",
       "perimeter_mean               0\n",
       "area_mean                    0\n",
       "smoothness_mean              0\n",
       "compactness_mean             0\n",
       "concavity_mean               0\n",
       "concave points_mean          0\n",
       "symmetry_mean                0\n",
       "fractal_dimension_mean       0\n",
       "radius_se                    0\n",
       "texture_se                   0\n",
       "perimeter_se                 0\n",
       "area_se                      0\n",
       "smoothness_se                0\n",
       "compactness_se               0\n",
       "concavity_se                 0\n",
       "concave points_se            0\n",
       "symmetry_se                  0\n",
       "fractal_dimension_se         0\n",
       "radius_worst                 0\n",
       "texture_worst                0\n",
       "perimeter_worst              0\n",
       "area_worst                   0\n",
       "smoothness_worst             0\n",
       "compactness_worst            0\n",
       "concavity_worst              0\n",
       "concave points_worst         0\n",
       "symmetry_worst               0\n",
       "fractal_dimension_worst      0\n",
       "Unnamed: 32                569\n",
       "dtype: int64"
      ]
     },
     "execution_count": 1,
     "metadata": {},
     "output_type": "execute_result"
    }
   ],
   "source": [
    "import pandas as pd\n",
    "import numpy as np\n",
    "df = pd.read_csv('data.csv')\n",
    "df.isnull().sum()"
   ]
  },
  {
   "cell_type": "code",
   "execution_count": 2,
   "metadata": {},
   "outputs": [
    {
     "name": "stdout",
     "output_type": "stream",
     "text": [
      "[[  1.79900000e+01   1.03800000e+01   1.22800000e+02 ...,   2.65400000e-01\n",
      "    4.60100000e-01   1.18900000e-01]\n",
      " [  2.05700000e+01   1.77700000e+01   1.32900000e+02 ...,   1.86000000e-01\n",
      "    2.75000000e-01   8.90200000e-02]\n",
      " [  1.96900000e+01   2.12500000e+01   1.30000000e+02 ...,   2.43000000e-01\n",
      "    3.61300000e-01   8.75800000e-02]\n",
      " ..., \n",
      " [  1.66000000e+01   2.80800000e+01   1.08300000e+02 ...,   1.41800000e-01\n",
      "    2.21800000e-01   7.82000000e-02]\n",
      " [  2.06000000e+01   2.93300000e+01   1.40100000e+02 ...,   2.65000000e-01\n",
      "    4.08700000e-01   1.24000000e-01]\n",
      " [  7.76000000e+00   2.45400000e+01   4.79200000e+01 ...,   0.00000000e+00\n",
      "    2.87100000e-01   7.03900000e-02]]\n"
     ]
    }
   ],
   "source": [
    "X = np.array(df.iloc[:,2:32].astype(float))\n",
    "print(X)"
   ]
  },
  {
   "cell_type": "code",
   "execution_count": 3,
   "metadata": {},
   "outputs": [],
   "source": [
    "from sklearn.preprocessing import StandardScaler\n",
    "scaler = StandardScaler()\n",
    "X_scaled = scaler.fit_transform(X)"
   ]
  },
  {
   "cell_type": "code",
   "execution_count": 4,
   "metadata": {},
   "outputs": [],
   "source": [
    "from sklearn import preprocessing\n",
    "le = preprocessing.LabelEncoder()\n",
    "le.fit([\"M\", \"B\"])\n",
    "list(le.classes_)\n",
    "le.transform(df['diagnosis'])\n",
    "y = le.transform(df['diagnosis'])"
   ]
  },
  {
   "cell_type": "code",
   "execution_count": 6,
   "metadata": {},
   "outputs": [
    {
     "name": "stdout",
     "output_type": "stream",
     "text": [
      "[  4.42720256e-01   1.89711820e-01   9.39316326e-02   6.60213492e-02\n",
      "   5.49576849e-02   4.02452204e-02   2.25073371e-02   1.58872380e-02\n",
      "   1.38964937e-02   1.16897819e-02   9.79718988e-03   8.70537901e-03\n",
      "   8.04524987e-03   5.23365745e-03   3.13783217e-03   2.66209337e-03\n",
      "   1.97996793e-03   1.75395945e-03   1.64925306e-03   1.03864675e-03\n",
      "   9.99096464e-04   9.14646751e-04   8.11361259e-04   6.01833567e-04\n",
      "   5.16042379e-04   2.72587995e-04   2.30015463e-04   5.29779290e-05\n",
      "   2.49601032e-05   4.43482743e-06]\n"
     ]
    }
   ],
   "source": [
    "from sklearn.decomposition import PCA\n",
    "pca = PCA()\n",
    "pca.fit(X_scaled)\n",
    "print(pca.explained_variance_ratio_)"
   ]
  },
  {
   "cell_type": "code",
   "execution_count": 11,
   "metadata": {},
   "outputs": [
    {
     "data": {
      "text/plain": [
       "<Figure size 640x480 with 1 Axes>"
      ]
     },
     "metadata": {},
     "output_type": "display_data"
    }
   ],
   "source": [
    "import matplotlib.pyplot as plt\n",
    "#Plot Variance Ratio for PCA#Plot Var \n",
    "plt.bar(range(1, 31), pca.explained_variance_ratio_)\n",
    "plt.xlabel('Principle Components',fontsize=18)\n",
    "plt.ylabel('Explained Variance Ratio',fontsize=18)\n",
    "plt.title('Breast_Cancer(Explained Variance vs Dimension)',fontsize=14)\n",
    "plt.grid(True)\n",
    "plt.show()\n",
    "plt.clf()"
   ]
  },
  {
   "cell_type": "code",
   "execution_count": null,
   "metadata": {},
   "outputs": [],
   "source": [
    "cummulative_explained_variance_ = np.cumsum(pca.explained_variance_ratio_)\n",
    "plt.plot(range(1, 31), cummulative_explained_variance_,color='red')\n",
    "plt.xlabel('Principle Components',fontsize=18)\n",
    "plt.ylabel('Cumulative Explained Variance',fontsize=14)\n",
    "plt.title('Breast_Cancer(Cumulative Explained Variance vs Dimension)',fontsize=12)\n",
    "plt.grid(True)\n",
    "plt.show()\n",
    "plt.clf()"
   ]
  },
  {
   "cell_type": "code",
   "execution_count": 7,
   "metadata": {},
   "outputs": [],
   "source": [
    "X_pca = PCA(n_components=5).fit_transform(X_scaled)\n"
   ]
  },
  {
   "cell_type": "code",
   "execution_count": 9,
   "metadata": {},
   "outputs": [],
   "source": [
    "from sklearn.cluster import KMeans\n",
    "Sum_of_squared_distances = []\n",
    "K = range(1,11)\n",
    "for k in K:\n",
    "    km = KMeans(n_clusters=k)\n",
    "    km = km.fit(X_pca)\n",
    "    Sum_of_squared_distances.append(km.inertia_)"
   ]
  },
  {
   "cell_type": "code",
   "execution_count": null,
   "metadata": {},
   "outputs": [],
   "source": [
    "SSE=[17070.0, 11595.526607115784, 10061.797818243695, 9265.0697649793728, 8562.4248983481593, 7967.6360071851659, 7539.7825299229071, 7171.5891668032191, 6895.019391524017, 6600.2605157515518]\n",
    "plt.plot(K, Sum_of_squared_distances, 'bx-',label='PCA')\n",
    "plt.plot(K, SSE, 'r^-',label='RAW')\n",
    "plt.legend(loc='upper right')\n",
    "plt.xlabel('k(number of clusters)',fontsize=18)\n",
    "plt.ylabel('SSE',fontsize=18)\n",
    "plt.title('Breast_Cancer(K-means_PCA=7)',fontsize=14)\n",
    "plt.show()"
   ]
  },
  {
   "cell_type": "code",
   "execution_count": 12,
   "metadata": {},
   "outputs": [
    {
     "data": {
      "image/png": "[encoded data removed]",
      "text/plain": [
       "<Figure size 432x288 with 1 Axes>"
      ]
     },
     "metadata": {},
     "output_type": "display_data"
    }
   ],
   "source": [
    "from sklearn import metrics\n",
    "homogeneity_scores=[]\n",
    "clusters=range(1,11)\n",
    "for k in clusters:\n",
    "    km = KMeans(n_clusters=k)\n",
    "    km = km.fit(X_pca)\n",
    "    lable = km.labels_\n",
    "    homogeneity_scores.append(metrics.homogeneity_score(y,lable ))\n",
    "plt.plot(clusters, homogeneity_scores,'bo-')\n",
    "plt.xlabel('k(Number of clusters)',fontsize=18)\n",
    "plt.ylabel('Homogeneity Score',fontsize=18)\n",
    "plt.title('Breast_Cancer(K-means_PCA_Homogeneity Score)',fontsize=14)\n",
    "plt.show()"
   ]
  },
  {
   "cell_type": "code",
   "execution_count": null,
   "metadata": {},
   "outputs": [],
   "source": [
    "# PCA-kmeans Plot\n",
    "\n",
    "clf = KMeans(init='k-means++', n_clusters=2, random_state=42)\n",
    "clf.fit_predict(X_pca)\n",
    "\n",
    "k = 2 # number of clusters\n",
    "colors = ['g', 'r', 'b', 'y', 'c', 'm']\n",
    "labels = ['Benign', 'Malignant']\n",
    "\n",
    "# fix labels\n",
    "clusters_kmeans = np.choose(clf.labels_, [1, 0])\n",
    "\n",
    "fig, ax = plt.subplots()\n",
    "for i in range(k):\n",
    "    points = np.array([X_pca[j] for j in range(len(X_pca)) if clf.labels_[j] == i])\n",
    "    ax.scatter(points[:, 0], points[:, 1], s=7, c=colors[i], label=labels[i])\n",
    "\n",
    "\n",
    "plt.xlabel(\"1st component\",fontsize=18)\n",
    "plt.ylabel(\"2nd component\",fontsize=18)\n",
    "plt.legend(loc=2)\n",
    "plt.title('Breast_Cancer(Kmeans_PCA)',fontsize=14)\n"
   ]
  },
  {
   "cell_type": "code",
   "execution_count": null,
   "metadata": {},
   "outputs": [],
   "source": [
    "import numpy as np\n",
    "from sklearn.cluster import KMeans\n",
    "from sklearn.metrics import accuracy_score\n",
    "acc = []\n",
    "for i in range (1, 31):\n",
    "    X_pca = PCA(n_components=i).fit_transform(X)\n",
    "    print(X_pca)\n",
    "    #clf = DecisionTreeClassifier(max_depth=5)\n",
    "    clf = KMeans(init='k-means++',n_clusters=2)\n",
    "    clf.fit(X_pca)\n",
    "    pred = clf.labels_\n",
    "    acc.append(accuracy_score(pred, y))\n",
    "print(acc)"
   ]
  },
  {
   "cell_type": "code",
   "execution_count": null,
   "metadata": {},
   "outputs": [],
   "source": [
    "plt.plot(range(1, 31), acc)\n",
    "plt.xlabel('Principle Components')\n",
    "plt.ylabel('KNN Acc')\n",
    "plt.title('acc')\n",
    "plt.show()\n",
    "plt.clf()"
   ]
  },
  {
   "cell_type": "code",
   "execution_count": 13,
   "metadata": {},
   "outputs": [
    {
     "name": "stdout",
     "output_type": "stream",
     "text": [
      "[11924.608399120529, 11262.243564778571, 11213.759127268235, 11187.307204927612, 11250.114148466757, 11286.17605595139, 11406.549571610825, 11353.145290820486, 11551.673097369208, 11598.351793484238]\n"
     ]
    }
   ],
   "source": [
    "from sklearn.mixture import GaussianMixture as GMM\n",
    "ll=[]\n",
    "bic=[]\n",
    "homogeinity_scores=[]\n",
    "completeness_scores=[]\n",
    "clusters=range(1,11)\n",
    "model = GMM(covariance_type = 'full')\n",
    "for k in clusters:\n",
    "            model.set_params(n_components=k)\n",
    "            model.fit(X_pca)\n",
    "            labels = model.predict(X_pca)\n",
    "            ll.append(model.score(X_pca))\n",
    "            bic.append(model.bic(X_pca))\n",
    "            homogeinity_scores.append(metrics.homogeneity_score(y,labels))\n",
    "            completeness_scores.append(metrics.completeness_score(y,labels))\n",
    "print(bic)"
   ]
  },
  {
   "cell_type": "code",
   "execution_count": 14,
   "metadata": {},
   "outputs": [
    {
     "data": {
      "image/png": "[encoded data removed]",
      "text/plain": [
       "<Figure size 432x288 with 1 Axes>"
      ]
     },
     "metadata": {},
     "output_type": "display_data"
    }
   ],
   "source": [
    "ll3=[-7.2446998437349652, 0.0984106555742887, 2.7588833840194749, 5.4181893760333599, 8.7015912316122375, 9.4994362119163966, 11.251063537729486, 13.092841877411272, 13.139897418432822, 14.073536392516209]\n",
    "plt.plot(clusters, ll, 'bo-',label='PCA')\n",
    "plt.plot(clusters,ll3,'r^-',label='RAW')\n",
    "plt.xlabel('k(Number of clusters)',fontsize=18)\n",
    "plt.ylabel('Log Probability',fontsize=18);\n",
    "plt.title('Breast_Cancer(PCA_GMM_Full_Covariance_Log_Probability)',fontsize=14)\n",
    "plt.show()"
   ]
  },
  {
   "cell_type": "code",
   "execution_count": null,
   "metadata": {},
   "outputs": [],
   "source": [
    "plt.plot(clusters, homogeneity_scores,'bo-')\n",
    "plt.xlabel('k(Number of clusters)',fontsize=18)\n",
    "plt.ylabel('Homogeneity Score',fontsize=18)\n",
    "plt.title('Breast_Cancer(PCA_GMM_Full_Covariance_Homogeneity Score)',fontsize=14)\n",
    "plt.show()"
   ]
  },
  {
   "cell_type": "code",
   "execution_count": null,
   "metadata": {},
   "outputs": [],
   "source": [
    "\n",
    "plt.plot(clusters, completeness_scores,'g^-')\n",
    "plt.xlabel('k(Number of clusters)',fontsize=18)\n",
    "plt.ylabel('Completeness Score',fontsize=18)\n",
    "plt.title('Breast_Cancer(PCA_GMM_Full_Covariance_Completeness Score)',fontsize=14)\n",
    "plt.show()"
   ]
  },
  {
   "cell_type": "code",
   "execution_count": null,
   "metadata": {},
   "outputs": [],
   "source": [
    "bic2=[11384.689237062925, 6174.7941841756538, 6286.2584335971933, 6735.7435571933156, 7807.6451755694579, 9331.5570355781056, 9133.3432808520811, 9680.4796992095507, 11892.956328863042, 15037.456278903926]\n",
    "plt.plot(clusters, bic,'g^-',label='PCA BIC')\n",
    "plt.plot(clusters, bic2,'bo-',label='RAW BIC')\n",
    "plt.legend(loc='upper right')\n",
    "plt.xlabel('k(Number of clusters)',fontsize=18)\n",
    "plt.ylabel('BIC_score',fontsize=18)\n",
    "plt.title('Breast_Cancer(GMM_BIC VS PCA_GMM_BIC)',fontsize=14)\n",
    "plt.show()"
   ]
  },
  {
   "cell_type": "code",
   "execution_count": null,
   "metadata": {},
   "outputs": [],
   "source": []
  },
  {
   "cell_type": "code",
   "execution_count": null,
   "metadata": {},
   "outputs": [],
   "source": []
  }
 ],
 "metadata": {
  "kernelspec": {
   "display_name": "Python 3",
   "language": "python",
   "name": "python3"
  },
  "language_info": {
   "codemirror_mode": {
    "name": "ipython",
    "version": 3
   },
   "file_extension": ".py",
   "mimetype": "text/x-python",
   "name": "python",
   "nbconvert_exporter": "python",
   "pygments_lexer": "ipython3",
   "version": "3.6.4"
  }
 },
 "nbformat": 4,
 "nbformat_minor": 2
}
