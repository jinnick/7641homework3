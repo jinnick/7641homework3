{
 "cells": [
  {
   "cell_type": "code",
   "execution_count": 1,
   "metadata": {},
   "outputs": [
    {
     "data": {
      "text/plain": [
       "id                           0\n",
       "diagnosis                    0\n",
       "radius_mean                  0\n",
       "texture_mean                 0\n",
       "perimeter_mean               0\n",
       "area_mean                    0\n",
       "smoothness_mean              0\n",
       "compactness_mean             0\n",
       "concavity_mean               0\n",
       "concave points_mean          0\n",
       "symmetry_mean                0\n",
       "fractal_dimension_mean       0\n",
       "radius_se                    0\n",
       "texture_se                   0\n",
       "perimeter_se                 0\n",
       "area_se                      0\n",
       "smoothness_se                0\n",
       "compactness_se               0\n",
       "concavity_se                 0\n",
       "concave points_se            0\n",
       "symmetry_se                  0\n",
       "fractal_dimension_se         0\n",
       "radius_worst                 0\n",
       "texture_worst                0\n",
       "perimeter_worst              0\n",
       "area_worst                   0\n",
       "smoothness_worst             0\n",
       "compactness_worst            0\n",
       "concavity_worst              0\n",
       "concave points_worst         0\n",
       "symmetry_worst               0\n",
       "fractal_dimension_worst      0\n",
       "Unnamed: 32                569\n",
       "dtype: int64"
      ]
     },
     "execution_count": 1,
     "metadata": {},
     "output_type": "execute_result"
    }
   ],
   "source": [
    "import pandas as pd\n",
    "import numpy as np\n",
    "df = pd.read_csv('data.csv')\n",
    "df.isnull().sum()"
   ]
  },
  {
   "cell_type": "code",
   "execution_count": 2,
   "metadata": {},
   "outputs": [
    {
     "name": "stdout",
     "output_type": "stream",
     "text": [
      "[[  1.79900000e+01   1.03800000e+01   1.22800000e+02 ...,   2.65400000e-01\n",
      "    4.60100000e-01   1.18900000e-01]\n",
      " [  2.05700000e+01   1.77700000e+01   1.32900000e+02 ...,   1.86000000e-01\n",
      "    2.75000000e-01   8.90200000e-02]\n",
      " [  1.96900000e+01   2.12500000e+01   1.30000000e+02 ...,   2.43000000e-01\n",
      "    3.61300000e-01   8.75800000e-02]\n",
      " ..., \n",
      " [  1.66000000e+01   2.80800000e+01   1.08300000e+02 ...,   1.41800000e-01\n",
      "    2.21800000e-01   7.82000000e-02]\n",
      " [  2.06000000e+01   2.93300000e+01   1.40100000e+02 ...,   2.65000000e-01\n",
      "    4.08700000e-01   1.24000000e-01]\n",
      " [  7.76000000e+00   2.45400000e+01   4.79200000e+01 ...,   0.00000000e+00\n",
      "    2.87100000e-01   7.03900000e-02]]\n"
     ]
    }
   ],
   "source": [
    "X = np.array(df.iloc[:,2:32].astype(float))\n",
    "print(X)"
   ]
  },
  {
   "cell_type": "code",
   "execution_count": 3,
   "metadata": {},
   "outputs": [],
   "source": [
    "from sklearn.preprocessing import StandardScaler\n",
    "scaler = StandardScaler()\n",
    "X_scaled = scaler.fit_transform(X)"
   ]
  },
  {
   "cell_type": "code",
   "execution_count": 4,
   "metadata": {},
   "outputs": [],
   "source": [
    "from sklearn import preprocessing\n",
    "le = preprocessing.LabelEncoder()\n",
    "le.fit([\"M\", \"B\"])\n",
    "list(le.classes_)\n",
    "le.transform(df['diagnosis'])\n",
    "y = le.transform(df['diagnosis'])"
   ]
  },
  {
   "cell_type": "code",
   "execution_count": null,
   "metadata": {},
   "outputs": [],
   "source": [
    "from sklearn.mixture import GaussianMixture as GMM\n",
    "ll1=[]\n",
    "bic1=[]\n",
    "clusters=range(1,11)\n",
    "model = GMM(covariance_type = 'diag')\n",
    "for k in clusters:\n",
    "            model.set_params(n_components=k)\n",
    "            model.fit(X_scaled)\n",
    "            labels = model.predict(X_scaled)\n",
    "            ll1.append(model.score(X_scaled))\n",
    "            bic1.append(model.bic(X_scaled))\n",
    "            print(model.score(X_scaled))\n",
    "print(bic1)\n",
    "print(len(ll1))"
   ]
  },
  {
   "cell_type": "code",
   "execution_count": null,
   "metadata": {},
   "outputs": [],
   "source": [
    "from sklearn.mixture import GaussianMixture as GMM\n",
    "ll2=[]\n",
    "bic2=[]\n",
    "clusters=range(1,11)\n",
    "model = GMM(covariance_type = 'spherical')\n",
    "for k in clusters:\n",
    "            model.set_params(n_components=k)\n",
    "            model.fit(X_scaled)\n",
    "            labels = model.predict(X_scaled)\n",
    "            ll2.append(model.score(X_scaled))\n",
    "            bic2.append(model.bic(X_scaled))\n",
    "            print(model.score(X_scaled))\n",
    "print(bic2)"
   ]
  },
  {
   "cell_type": "code",
   "execution_count": 5,
   "metadata": {},
   "outputs": [
    {
     "name": "stdout",
     "output_type": "stream",
     "text": [
      "-7.24469984373\n",
      "0.0984106555743\n",
      "2.75888338402\n",
      "5.41818937603\n",
      "8.70159123161\n",
      "9.49943621192\n",
      "11.2510635377\n",
      "13.0928418774\n",
      "13.1398974184\n",
      "14.0735363925\n",
      "[11384.689237062925, 6174.7941841756538, 6293.7409145316915, 6414.0153909465507, 5824.0687746244494, 8062.6858823649764, 9215.8986809163398, 10266.519625685125, 13359.535115329263, 15443.618658149029]\n",
      "[-7.2446998437349652, 0.0984106555742887, 2.7588833840194749, 5.4181893760333599, 8.7015912316122375, 9.4994362119163966, 11.251063537729486, 13.092841877411272, 13.139897418432822, 14.073536392516209]\n"
     ]
    }
   ],
   "source": [
    "from sklearn.mixture import GaussianMixture as GMM\n",
    "ll3=[]\n",
    "bic3=[]\n",
    "clusters=range(1,11)\n",
    "model = GMM(covariance_type = 'full')\n",
    "for k in clusters:\n",
    "            model.set_params(n_components=k)\n",
    "            model.fit(X_scaled)\n",
    "            labels = model.predict(X_scaled)\n",
    "            ll3.append(model.score(X_scaled))\n",
    "            bic3.append(model.bic(X_scaled))\n",
    "            print(model.score(X_scaled))\n",
    "print(bic3)\n",
    "print(ll3)"
   ]
  },
  {
   "cell_type": "code",
   "execution_count": null,
   "metadata": {},
   "outputs": [],
   "source": [
    "from sklearn.mixture import GaussianMixture as GMM\n",
    "ll4=[]\n",
    "bic4=[]\n",
    "clusters=range(1,11)\n",
    "model = GMM(covariance_type = 'tied')\n",
    "for k in clusters:\n",
    "            model.set_params(n_components=k)\n",
    "            model.fit(X_scaled)\n",
    "            labels = model.predict(X_scaled)\n",
    "            ll4.append(model.score(X_scaled))\n",
    "            bic4.append(model.bic(X_scaled))\n",
    "            print(model.score(X_scaled))\n",
    "print(bic4)"
   ]
  },
  {
   "cell_type": "code",
   "execution_count": null,
   "metadata": {},
   "outputs": [],
   "source": [
    "import matplotlib.pyplot as plt\n",
    "plt.plot(clusters, bic1, color='red', label='diagnoal')\n",
    "plt.plot(clusters, bic2, color='magenta', label='spherical')\n",
    "plt.plot(clusters, bic3, color='blue', label='full')\n",
    "plt.plot(clusters, bic4, color='green', label='tied')\n",
    "\n",
    "\n",
    "plt.legend(loc='upper right')\n",
    "#plt.title(\"KNN: unweighted (Cancer)\")\n",
    "#plt.ylim(0.92, 1.01)\n",
    "#plt.xticks(np.arange(0,2.1,0.5))\n",
    "plt.xlabel('k(Number of clusters)',fontsize=18)\n",
    "plt.ylabel('BIC_Score',fontsize=18);\n",
    "plt.title('Breast_Cancer(GMM_BIC)',fontsize=14)\n",
    "plt.show()"
   ]
  },
  {
   "cell_type": "code",
   "execution_count": null,
   "metadata": {},
   "outputs": [],
   "source": [
    "clusters=[1,2,3,4,5,6,7,8,9,10]\n",
    "plt.plot(clusters, ll1, color='red', label='diagnoal')\n",
    "plt.plot(clusters, ll2, color='magenta', label='spherical')\n",
    "plt.plot(clusters, ll3, color='blue', label='full')\n",
    "plt.plot(clusters, ll4, color='green', label='tied')\n",
    "\n",
    "\n",
    "plt.legend(loc='upper right')\n",
    "#plt.title(\"KNN: unweighted (Cancer)\")\n",
    "#plt.ylim(0.92, 1.01)\n",
    "#plt.xticks(np.arange(0,2.1,0.5))\n",
    "plt.xlabel('k(Number of clusters)',fontsize=18)\n",
    "plt.ylabel('Log Probability',fontsize=18);\n",
    "plt.title('Breast_Cancer(GMM_Log_Probability)',fontsize=14)\n",
    "plt.show()"
   ]
  },
  {
   "cell_type": "code",
   "execution_count": null,
   "metadata": {},
   "outputs": [],
   "source": [
    "plt.plot(clusters, ll3, color='blue')\n",
    "plt.xlabel('k(Number of clusters)',fontsize=18)\n",
    "plt.ylabel('Log Probability',fontsize=18);\n",
    "plt.title('Breast_Cancer(GMM_Full_Covariance_Log_Probability)',fontsize=14)\n",
    "plt.show()"
   ]
  },
  {
   "cell_type": "code",
   "execution_count": null,
   "metadata": {},
   "outputs": [],
   "source": [
    "from sklearn import metrics\n",
    "homogeneity_scores=[]\n",
    "clusters=range(1,11)\n",
    "for k in clusters:\n",
    "    gmm = GMM(covariance_type = 'full')\n",
    "    gmm.set_params(n_components=k)\n",
    "    label = gmm.fit_predict(X_scaled)\n",
    "    homogeneity_scores.append(metrics.homogeneity_score(y,label ))\n",
    "plt.plot(clusters, homogeneity_scores,'bo-')\n",
    "plt.xlabel('k(Number of clusters)',fontsize=18)\n",
    "plt.ylabel('Homogeneity Score',fontsize=18)\n",
    "plt.title('Breast_Cancer(GMM_Full_Covariance_Homogeneity Score)',fontsize=14)\n",
    "plt.show()"
   ]
  },
  {
   "cell_type": "code",
   "execution_count": null,
   "metadata": {},
   "outputs": [],
   "source": [
    "from sklearn import metrics\n",
    "completeness_scores=[]\n",
    "clusters=range(1,11)\n",
    "for k in clusters:\n",
    "    gmm = GMM(covariance_type = 'full')\n",
    "    gmm.set_params(n_components=k)\n",
    "    label = gmm.fit_predict(X_scaled)\n",
    "    completeness_scores.append(metrics.completeness_score(y,label ))\n",
    "plt.plot(clusters, completeness_scores,'g^-')\n",
    "plt.xlabel('k(Number of clusters)',fontsize=18)\n",
    "plt.ylabel('Completeness Score',fontsize=18)\n",
    "plt.title('Breast_Cancer(GMM_Full_Covariance_Completeness Score)',fontsize=14)\n",
    "plt.show()"
   ]
  },
  {
   "cell_type": "code",
   "execution_count": null,
   "metadata": {},
   "outputs": [],
   "source": [
    "#find optimized cluster number\n",
    "meandist = []\n",
    "ARI = []\n",
    "AMI = []\n",
    "h_score = []\n",
    "c_score = []\n",
    "V_measure = []\n",
    "for k in range(1,11):\n",
    "    gmm = GMM(covariance_type = 'full')\n",
    "    gmm.set_params(n_components=k)\n",
    "    Z = gmm.fit_predict(X_scaled)\n",
    "    # other scores\n",
    "    ARI.append(metrics.adjusted_rand_score(y, Z))\n",
    "    AMI.append(metrics.adjusted_mutual_info_score(y, Z))\n",
    "    h, c, V = metrics.homogeneity_completeness_v_measure(y, Z)\n",
    "    h_score.append(h)\n",
    "    c_score.append(c)\n",
    "    V_measure.append(V)"
   ]
  },
  {
   "cell_type": "code",
   "execution_count": null,
   "metadata": {},
   "outputs": [],
   "source": [
    "k = [1,2,3,4,5,6,7,8,9,10]\n",
    "plt.plot(k, ARI, color='red', label='adjusted_rand_score')\n",
    "plt.plot(k, AMI, color='magenta', label='adjusted_mutual_score')\n",
    "plt.plot(k, h_score, color='blue', label='homogeneity_score')\n",
    "plt.plot(k, c_score, color='green', label='completeness_score')\n",
    "plt.plot(k, V_measure, color='cyan', label='V-measure_score')\n",
    "\n",
    "plt.legend(loc='upper right')\n",
    "#plt.title(\"KNN: unweighted (Cancer)\")\n",
    "#plt.ylim(0.92, 1.01)\n",
    "#plt.xticks(np.arange(0,2.1,0.5))\n",
    "plt.xlabel('k(Number of clusters)',fontsize=18)\n",
    "plt.ylabel('Score Values',fontsize=18);\n",
    "plt.title('Breast_Cancer(GMM Full Covariance Performance)',fontsize=14)"
   ]
  },
  {
   "cell_type": "code",
   "execution_count": null,
   "metadata": {},
   "outputs": [],
   "source": []
  },
  {
   "cell_type": "code",
   "execution_count": null,
   "metadata": {},
   "outputs": [],
   "source": [
    "import matplotlib.pyplot as plt\n",
    "plt.plot(clusters, ll)\n",
    "plt.xlabel('Number of clusters')\n",
    "plt.ylabel('Log Probablility')\n",
    "plt.title('Breast Cancer-EM-Log Probability')"
   ]
  }
 ],
 "metadata": {
  "kernelspec": {
   "display_name": "Python 3",
   "language": "python",
   "name": "python3"
  },
  "language_info": {
   "codemirror_mode": {
    "name": "ipython",
    "version": 3
   },
   "file_extension": ".py",
   "mimetype": "text/x-python",
   "name": "python",
   "nbconvert_exporter": "python",
   "pygments_lexer": "ipython3",
   "version": "3.6.4"
  }
 },
 "nbformat": 4,
 "nbformat_minor": 2
}
